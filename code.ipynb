{
 "cells": [
  {
   "cell_type": "markdown",
   "id": "7cef4085",
   "metadata": {},
   "source": [
    "#### Scenario 1 : File Processing and Exception Handling"
   ]
  },
  {
   "cell_type": "code",
   "execution_count": 18,
   "id": "443122c3",
   "metadata": {},
   "outputs": [
    {
     "name": "stdout",
     "output_type": "stream",
     "text": [
      "Student Records:\n",
      "Alice: 85\n",
      "Bob: 90\n",
      "Charlie: 75\n",
      "Dave: 82\n",
      "Eve: 95\n",
      "Frank: 78\n",
      "Grace: Invalid Grade\n",
      "Total: 505\n",
      "Average: 84.16666666666667\n",
      "Highest: 95\n",
      "Lowest: 75\n"
     ]
    }
   ],
   "source": [
    "def read_student_records(file_path):\n",
    "    students = {}\n",
    "    try:\n",
    "        with open(file_path, \"r\") as f:\n",
    "            for line in f:\n",
    "                name, grade = line.strip().split(\", \")\n",
    "                try:\n",
    "                    students[name] = int(grade)\n",
    "                except ValueError:\n",
    "                    students[name] = None \n",
    "    except FileNotFoundError:\n",
    "        print(\"Error: file not found.\")\n",
    "    return students\n",
    "\n",
    "records = read_student_records(\"student_records.txt\")\n",
    "\n",
    "print(\"Student Records:\")\n",
    "for student, grade in records.items():\n",
    "    print(f\"{student}: {grade if grade is not None else 'Invalid Grade'}\")\n",
    "\n",
    "valid_grades = [g for g in records.values() if g is not None]\n",
    "\n",
    "print(\"Total:\", sum(valid_grades))\n",
    "print(\"Average:\", sum(valid_grades) / len(valid_grades))\n",
    "print(\"Highest:\", max(valid_grades))\n",
    "print(\"Lowest:\", min(valid_grades))"
   ]
  },
  {
   "cell_type": "markdown",
   "id": "5aaf7def",
   "metadata": {},
   "source": [
    "#### Scenario 2 : Object Oriented Programming and Inheritance"
   ]
  },
  {
   "cell_type": "code",
   "execution_count": 22,
   "id": "b3aa5166",
   "metadata": {},
   "outputs": [
    {
     "name": "stdout",
     "output_type": "stream",
     "text": [
      "2020 Toyota Corolla Doors: 4\n",
      "2018 Volvo FH16 Cargo Capacity: 20 tons\n",
      "2021 Yamaha R1 Drive Type: Chain\n",
      "Corolla's engine started.\n",
      "FH16's engine started.\n",
      "R1's engine started.\n"
     ]
    }
   ],
   "source": [
    "class Vehicle:\n",
    "    def __init__(self, make, model, year):\n",
    "        self.make = make\n",
    "        self.model = model\n",
    "        self.year = year\n",
    "    \n",
    "    def display_info(self):\n",
    "        return f\"{self.year} {self.make} {self.model}\"\n",
    "    \n",
    "    def start_engine(self):\n",
    "        return f\"{self.model}'s engine started.\"\n",
    "\n",
    "class Car(Vehicle):\n",
    "    def __init__(self, make, model, year, doors):\n",
    "        super().__init__(make, model, year)\n",
    "        self.doors = doors\n",
    "    \n",
    "    def display_info(self):\n",
    "        return super().display_info() + f\" Doors: {self.doors}\"\n",
    "\n",
    "class Truck(Vehicle):\n",
    "    def __init__(self, make, model, year, cargo_capacity):\n",
    "        super().__init__(make, model, year)\n",
    "        self.cargo_capacity = cargo_capacity\n",
    "    \n",
    "    def display_info(self):\n",
    "        return super().display_info() + f\" Cargo Capacity: {self.cargo_capacity} tons\"\n",
    "\n",
    "class Motorcycle(Vehicle):\n",
    "    def __init__(self, make, model, year, drive_type):\n",
    "        super().__init__(make, model, year)\n",
    "        self.drive_type = drive_type\n",
    "    \n",
    "    def display_info(self):\n",
    "        return super().display_info() + f\" Drive Type: {self.drive_type}\"\n",
    "\n",
    "car = Car(\"Toyota\", \"Corolla\", 2020, 4)\n",
    "truck = Truck(\"Volvo\", \"FH16\", 2018, 20)\n",
    "motorcycle = Motorcycle(\"Yamaha\", \"R1\", 2021, \"Chain\")\n",
    "\n",
    "print(car.display_info())\n",
    "print(truck.display_info())\n",
    "print(motorcycle.display_info())\n",
    "print(car.start_engine())\n",
    "print(truck.start_engine())\n",
    "print(motorcycle.start_engine())"
   ]
  },
  {
   "cell_type": "markdown",
   "id": "339f237f",
   "metadata": {},
   "source": [
    "#### Scenario 3 : Functions and Modules"
   ]
  },
  {
   "cell_type": "code",
   "execution_count": 24,
   "id": "23817992",
   "metadata": {},
   "outputs": [
    {
     "name": "stdout",
     "output_type": "stream",
     "text": [
      "Book 'Python Programming' added.\n",
      "Book 'Data Science Handbook' added.\n",
      "Book 'Python Programming' borrowed, due on 2025-10-08.\n",
      "\n",
      "Inventory: {'Python Programming': {'available': False, 'due_date': datetime.date(2025, 10, 8)}, 'Data Science Handbook': {'available': True, 'due_date': None}}\n",
      "Is 'Data Science Handbook' available? True\n",
      "\n",
      "Overdue Books: ['Data Science Handbook']\n",
      "Borrowed Books Report: ['Python Programming (Due: 2025-10-08)', 'Data Science Handbook (Due: 2025-10-03)']\n"
     ]
    }
   ],
   "source": [
    "import math\n",
    "from datetime import date, timedelta\n",
    "\n",
    "inventory = {}\n",
    "\n",
    "def add_book(title):\n",
    "    inventory[title] = {\"available\": True, \"due_date\": None}\n",
    "    print(f\"Book '{title}' added.\")\n",
    "\n",
    "def remove_book(title):\n",
    "    if title in inventory:\n",
    "        del inventory[title]\n",
    "        print(f\"Book '{title}' removed.\")\n",
    "    else:\n",
    "        print(f\"Book '{title}' not found.\")\n",
    "\n",
    "def display_inventory():\n",
    "    return inventory\n",
    "\n",
    "def borrow_book(title, days=7):\n",
    "    if title in inventory and inventory[title][\"available\"]:\n",
    "        inventory[title][\"available\"] = False\n",
    "        inventory[title][\"due_date\"] = date.today() + timedelta(days=days)\n",
    "        print(f\"Book '{title}' borrowed, due on {inventory[title]['due_date']}.\")\n",
    "    else:\n",
    "        print(f\"Book '{title}' is not available.\")\n",
    "\n",
    "def return_book(title):\n",
    "    if title in inventory and not inventory[title][\"available\"]:\n",
    "        due = inventory[title][\"due_date\"]\n",
    "        inventory[title][\"available\"] = True\n",
    "        inventory[title][\"due_date\"] = None\n",
    "        # Late fine calculation\n",
    "        late_days = (date.today() - due).days\n",
    "        fine = math.ceil(late_days * 2) if late_days > 0 else 0\n",
    "        print(f\"Book '{title}' returned. Fine: ${fine}\")\n",
    "    else:\n",
    "        print(f\"Book '{title}' is not borrowed.\")\n",
    "\n",
    "def check_availability(title):\n",
    "    return inventory.get(title, {}).get(\"available\", False)\n",
    "\n",
    "overdue_books = lambda inv: [title for title, info in inv.items() \n",
    "                             if not info[\"available\"] and info[\"due_date\"] < date.today()]\n",
    "\n",
    "def borrowed_books_report(inv):\n",
    "    return [f\"{title} (Due: {info['due_date']})\" \n",
    "            for title, info in inv.items() if not info[\"available\"]]\n",
    "\n",
    "add_book(\"Python Programming\")\n",
    "add_book(\"Data Science Handbook\")\n",
    "\n",
    "borrow_book(\"Python Programming\", days=3)\n",
    "\n",
    "print(\"\\nInventory:\", display_inventory())\n",
    "print(\"Is 'Data Science Handbook' available?\", check_availability(\"Data Science Handbook\"))\n",
    "\n",
    "inventory[\"Data Science Handbook\"][\"available\"] = False\n",
    "inventory[\"Data Science Handbook\"][\"due_date\"] = date.today() - timedelta(days=2)\n",
    "\n",
    "print(\"\\nOverdue Books:\", overdue_books(inventory))\n",
    "print(\"Borrowed Books Report:\", borrowed_books_report(inventory))"
   ]
  },
  {
   "cell_type": "markdown",
   "id": "906b21e0",
   "metadata": {},
   "source": [
    "#### Scenario 4 Debugging Code"
   ]
  },
  {
   "cell_type": "code",
   "execution_count": 10,
   "id": "303bd432",
   "metadata": {},
   "outputs": [
    {
     "name": "stdout",
     "output_type": "stream",
     "text": [
      "Total: 15\n",
      "Product: 120\n",
      "Average: 3.0\n"
     ]
    }
   ],
   "source": [
    "def perform_operations(numbers):\n",
    "    total = 0\n",
    "    product = 1\n",
    "\n",
    "    for num in numbers:\n",
    "        total += num       \n",
    "        product *= num      \n",
    "\n",
    "    average = total / len(numbers)\n",
    "    return total, product, average\n",
    "\n",
    "nums = [1,2,3,4,5]\n",
    "total, product, average = perform_operations(nums)\n",
    "print(\"Total:\", total)\n",
    "print(\"Product:\", product)\n",
    "print(\"Average:\", average)"
   ]
  }
 ],
 "metadata": {
  "kernelspec": {
   "display_name": "cloud-data-engineering",
   "language": "python",
   "name": "python3"
  },
  "language_info": {
   "codemirror_mode": {
    "name": "ipython",
    "version": 3
   },
   "file_extension": ".py",
   "mimetype": "text/x-python",
   "name": "python",
   "nbconvert_exporter": "python",
   "pygments_lexer": "ipython3",
   "version": "3.13.5"
  }
 },
 "nbformat": 4,
 "nbformat_minor": 5
}
